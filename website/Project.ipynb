{
 "cells": [
  {
   "cell_type": "code",
   "execution_count": 3,
   "metadata": {},
   "outputs": [],
   "source": [
    "import sqlite3 \n",
    "import csv \n",
    "\n",
    "# establish a connection\n",
    "conn = sqlite3.connect('nutrition.db') # allow the communication - with arg name of the database\n",
    "cursor = conn.cursor()\n",
    "\n",
    "# create table\n",
    "create_table = \"\"\" CREATE TABLE IF NOT EXISTS nutrition_status(\n",
    "                        ID INT PRIMARY KEY,\n",
    "                        age_group TEXT,\n",
    "                        age INT,\n",
    "                        gender INT,\n",
    "                        physical_activity INT,\n",
    "                        bmi NUMERIC,\n",
    "                        blood_glucose INT,\n",
    "                        diabetic INT,\n",
    "                        oral INT,\n",
    "                        blood_insulin_level NUMERIC\n",
    "                        ); \"\"\"\n",
    "\n",
    "cursor.execute(create_table)\n",
    "\n",
    "# insert data from csv file\n",
    "with open(\"nutrition_survey.csv\") as f:\n",
    "    data = csv.reader(f)\n",
    "    for row in data:\n",
    "        if row[0]=='ID': \n",
    "            continue\n",
    "        cursor.execute(\"INSERT INTO nutrition_status VALUES (?, ?, ?, ?, ?, ?, ? ,? ,? ,?)\", (row[0], row[1], row[2], row[3], row[4], row[5], row[6], row[7], row[8], row[9]))\n",
    "\n",
    "results = cursor.execute(\"SELECT * FROM nutrition_status;\").fetchall()\n",
    "\n",
    "# save data\n",
    "conn.commit()\n",
    "#conn.close()"
   ]
  },
  {
   "cell_type": "markdown",
   "metadata": {},
   "source": []
  },
  {
   "cell_type": "code",
   "execution_count": 4,
   "metadata": {},
   "outputs": [
    {
     "data": {
      "text/plain": [
       "[(73564, 'Adult', 61, 2, 2, 35.7, 110, 2, 150, 14.91),\n",
       " (73568, 'Adult', 26, 2, 2, 20.3, 89, 2, 80, 3.85),\n",
       " (73576, 'Adult', 16, 1, 2, 23.2, 89, 2, 68, 6.14),\n",
       " (73577, 'Adult', 32, 1, 2, 28.9, 104, 2, 84, 16.15),\n",
       " (73580, 'Adult', 38, 2, 1, 35.9, 103, 2, 81, 10.92),\n",
       " (73581, 'Adult', 50, 1, 2, 23.6, 110, 2, 100, 6.08),\n",
       " (73587, 'Adult', 14, 1, 2, 38.7, 94, 2, 202, 21.11),\n",
       " (73596, 'Adult', 57, 2, 2, 38.3, 107, 2, 164, 20.93),\n",
       " (73607, 'Senior', 75, 1, 2, 38.9, 89, 2, 113, 17.47),\n",
       " (73610, 'Adult', 43, 1, 1, 28.9, 90, 2, 95, 3.24)]"
      ]
     },
     "execution_count": 4,
     "metadata": {},
     "output_type": "execute_result"
    }
   ],
   "source": [
    "# see results \n",
    "results"
   ]
  }
 ],
 "metadata": {
  "kernelspec": {
   "display_name": ".venv",
   "language": "python",
   "name": "python3"
  },
  "language_info": {
   "codemirror_mode": {
    "name": "ipython",
    "version": 3
   },
   "file_extension": ".py",
   "mimetype": "text/x-python",
   "name": "python",
   "nbconvert_exporter": "python",
   "pygments_lexer": "ipython3",
   "version": "3.12.1"
  }
 },
 "nbformat": 4,
 "nbformat_minor": 2
}
